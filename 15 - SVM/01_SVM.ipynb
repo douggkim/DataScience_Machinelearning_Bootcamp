{
 "cells": [
  {
   "cell_type": "markdown",
   "id": "c16f3907-1546-431d-aae3-e400eb9b423f",
   "metadata": {},
   "source": [
    "# Support Vector Machine"
   ]
  },
  {
   "cell_type": "code",
   "execution_count": 2,
   "id": "79fb77e1-fc46-4d8c-95d3-6f8972b7ba4f",
   "metadata": {},
   "outputs": [],
   "source": [
    "import pandas as pd \n",
    "import numpy as np"
   ]
  },
  {
   "cell_type": "code",
   "execution_count": 3,
   "id": "1a25764e-3d58-4207-a05e-85b5f3f56511",
   "metadata": {},
   "outputs": [],
   "source": [
    "import matplotlib.pyplot as plt\n",
    "import seaborn as sns"
   ]
  },
  {
   "cell_type": "code",
   "execution_count": 4,
   "id": "30cd8985-068c-491b-865b-f20d09a5e386",
   "metadata": {},
   "outputs": [],
   "source": [
    "%matplotlib inline"
   ]
  },
  {
   "cell_type": "code",
   "execution_count": 5,
   "id": "b230e582-de70-4ccc-b3fb-1a3aee994e6a",
   "metadata": {},
   "outputs": [],
   "source": [
    "from sklearn.datasets import load_breast_cancer"
   ]
  },
  {
   "cell_type": "code",
   "execution_count": 6,
   "id": "ad67a9fa-b374-41b4-9d7e-07ab026634e2",
   "metadata": {},
   "outputs": [],
   "source": [
    "cancer = load_breast_cancer()"
   ]
  },
  {
   "cell_type": "code",
   "execution_count": 7,
   "id": "1144c728-c1d5-40ac-992a-7c2fc2081b78",
   "metadata": {},
   "outputs": [
    {
     "data": {
      "text/plain": [
       "dict_keys(['data', 'target', 'frame', 'target_names', 'DESCR', 'feature_names', 'filename'])"
      ]
     },
     "execution_count": 7,
     "metadata": {},
     "output_type": "execute_result"
    }
   ],
   "source": [
    "cancer.keys()"
   ]
  },
  {
   "cell_type": "code",
   "execution_count": 9,
   "id": "6f878ed8-b487-403c-a2af-e8fbb8783701",
   "metadata": {},
   "outputs": [
    {
     "name": "stdout",
     "output_type": "stream",
     "text": [
      ".. _breast_cancer_dataset:\n",
      "\n",
      "Breast cancer wisconsin (diagnostic) dataset\n",
      "--------------------------------------------\n",
      "\n",
      "**Data Set Characteristics:**\n",
      "\n",
      "    :Number of Instances: 569\n",
      "\n",
      "    :Number of Attributes: 30 numeric, predictive attributes and the class\n",
      "\n",
      "    :Attribute Information:\n",
      "        - radius (mean of distances from center to points on the perimeter)\n",
      "        - texture (standard deviation of gray-scale values)\n",
      "        - perimeter\n",
      "        - area\n",
      "        - smoothness (local variation in radius lengths)\n",
      "        - compactness (perimeter^2 / area - 1.0)\n",
      "        - concavity (severity of concave portions of the contour)\n",
      "        - concave points (number of concave portions of the contour)\n",
      "        - symmetry\n",
      "        - fractal dimension (\"coastline approximation\" - 1)\n",
      "\n",
      "        The mean, standard error, and \"worst\" or largest (mean of the three\n",
      "        worst/largest values) of these features were computed for each image,\n",
      "        resulting in 30 features.  For instance, field 0 is Mean Radius, field\n",
      "        10 is Radius SE, field 20 is Worst Radius.\n",
      "\n",
      "        - class:\n",
      "                - WDBC-Malignant\n",
      "                - WDBC-Benign\n",
      "\n",
      "    :Summary Statistics:\n",
      "\n",
      "    ===================================== ====== ======\n",
      "                                           Min    Max\n",
      "    ===================================== ====== ======\n",
      "    radius (mean):                        6.981  28.11\n",
      "    texture (mean):                       9.71   39.28\n",
      "    perimeter (mean):                     43.79  188.5\n",
      "    area (mean):                          143.5  2501.0\n",
      "    smoothness (mean):                    0.053  0.163\n",
      "    compactness (mean):                   0.019  0.345\n",
      "    concavity (mean):                     0.0    0.427\n",
      "    concave points (mean):                0.0    0.201\n",
      "    symmetry (mean):                      0.106  0.304\n",
      "    fractal dimension (mean):             0.05   0.097\n",
      "    radius (standard error):              0.112  2.873\n",
      "    texture (standard error):             0.36   4.885\n",
      "    perimeter (standard error):           0.757  21.98\n",
      "    area (standard error):                6.802  542.2\n",
      "    smoothness (standard error):          0.002  0.031\n",
      "    compactness (standard error):         0.002  0.135\n",
      "    concavity (standard error):           0.0    0.396\n",
      "    concave points (standard error):      0.0    0.053\n",
      "    symmetry (standard error):            0.008  0.079\n",
      "    fractal dimension (standard error):   0.001  0.03\n",
      "    radius (worst):                       7.93   36.04\n",
      "    texture (worst):                      12.02  49.54\n",
      "    perimeter (worst):                    50.41  251.2\n",
      "    area (worst):                         185.2  4254.0\n",
      "    smoothness (worst):                   0.071  0.223\n",
      "    compactness (worst):                  0.027  1.058\n",
      "    concavity (worst):                    0.0    1.252\n",
      "    concave points (worst):               0.0    0.291\n",
      "    symmetry (worst):                     0.156  0.664\n",
      "    fractal dimension (worst):            0.055  0.208\n",
      "    ===================================== ====== ======\n",
      "\n",
      "    :Missing Attribute Values: None\n",
      "\n",
      "    :Class Distribution: 212 - Malignant, 357 - Benign\n",
      "\n",
      "    :Creator:  Dr. William H. Wolberg, W. Nick Street, Olvi L. Mangasarian\n",
      "\n",
      "    :Donor: Nick Street\n",
      "\n",
      "    :Date: November, 1995\n",
      "\n",
      "This is a copy of UCI ML Breast Cancer Wisconsin (Diagnostic) datasets.\n",
      "https://goo.gl/U2Uwz2\n",
      "\n",
      "Features are computed from a digitized image of a fine needle\n",
      "aspirate (FNA) of a breast mass.  They describe\n",
      "characteristics of the cell nuclei present in the image.\n",
      "\n",
      "Separating plane described above was obtained using\n",
      "Multisurface Method-Tree (MSM-T) [K. P. Bennett, \"Decision Tree\n",
      "Construction Via Linear Programming.\" Proceedings of the 4th\n",
      "Midwest Artificial Intelligence and Cognitive Science Society,\n",
      "pp. 97-101, 1992], a classification method which uses linear\n",
      "programming to construct a decision tree.  Relevant features\n",
      "were selected using an exhaustive search in the space of 1-4\n",
      "features and 1-3 separating planes.\n",
      "\n",
      "The actual linear program used to obtain the separating plane\n",
      "in the 3-dimensional space is that described in:\n",
      "[K. P. Bennett and O. L. Mangasarian: \"Robust Linear\n",
      "Programming Discrimination of Two Linearly Inseparable Sets\",\n",
      "Optimization Methods and Software 1, 1992, 23-34].\n",
      "\n",
      "This database is also available through the UW CS ftp server:\n",
      "\n",
      "ftp ftp.cs.wisc.edu\n",
      "cd math-prog/cpo-dataset/machine-learn/WDBC/\n",
      "\n",
      ".. topic:: References\n",
      "\n",
      "   - W.N. Street, W.H. Wolberg and O.L. Mangasarian. Nuclear feature extraction \n",
      "     for breast tumor diagnosis. IS&T/SPIE 1993 International Symposium on \n",
      "     Electronic Imaging: Science and Technology, volume 1905, pages 861-870,\n",
      "     San Jose, CA, 1993.\n",
      "   - O.L. Mangasarian, W.N. Street and W.H. Wolberg. Breast cancer diagnosis and \n",
      "     prognosis via linear programming. Operations Research, 43(4), pages 570-577, \n",
      "     July-August 1995.\n",
      "   - W.H. Wolberg, W.N. Street, and O.L. Mangasarian. Machine learning techniques\n",
      "     to diagnose breast cancer from fine-needle aspirates. Cancer Letters 77 (1994) \n",
      "     163-171.\n"
     ]
    }
   ],
   "source": [
    "print(cancer['DESCR'])"
   ]
  },
  {
   "cell_type": "code",
   "execution_count": 10,
   "id": "3892b115-daf1-4676-8c9b-aa57f1acbf47",
   "metadata": {},
   "outputs": [],
   "source": [
    "df_feat = pd.DataFrame(cancer['data'], columns=cancer['feature_names'])"
   ]
  },
  {
   "cell_type": "code",
   "execution_count": 13,
   "id": "f42f18c6-5399-4a7e-a726-1763a5554fdf",
   "metadata": {},
   "outputs": [
    {
     "data": {
      "text/plain": [
       "array(['malignant', 'benign'], dtype='<U9')"
      ]
     },
     "execution_count": 13,
     "metadata": {},
     "output_type": "execute_result"
    }
   ],
   "source": [
    "cancer['target_names']"
   ]
  },
  {
   "cell_type": "code",
   "execution_count": 16,
   "id": "283d712a-88b5-4cd3-b2eb-cadb7f97abe7",
   "metadata": {},
   "outputs": [
    {
     "name": "stdout",
     "output_type": "stream",
     "text": [
      "<class 'pandas.core.frame.DataFrame'>\n",
      "RangeIndex: 569 entries, 0 to 568\n",
      "Data columns (total 30 columns):\n",
      " #   Column                   Non-Null Count  Dtype  \n",
      "---  ------                   --------------  -----  \n",
      " 0   mean radius              569 non-null    float64\n",
      " 1   mean texture             569 non-null    float64\n",
      " 2   mean perimeter           569 non-null    float64\n",
      " 3   mean area                569 non-null    float64\n",
      " 4   mean smoothness          569 non-null    float64\n",
      " 5   mean compactness         569 non-null    float64\n",
      " 6   mean concavity           569 non-null    float64\n",
      " 7   mean concave points      569 non-null    float64\n",
      " 8   mean symmetry            569 non-null    float64\n",
      " 9   mean fractal dimension   569 non-null    float64\n",
      " 10  radius error             569 non-null    float64\n",
      " 11  texture error            569 non-null    float64\n",
      " 12  perimeter error          569 non-null    float64\n",
      " 13  area error               569 non-null    float64\n",
      " 14  smoothness error         569 non-null    float64\n",
      " 15  compactness error        569 non-null    float64\n",
      " 16  concavity error          569 non-null    float64\n",
      " 17  concave points error     569 non-null    float64\n",
      " 18  symmetry error           569 non-null    float64\n",
      " 19  fractal dimension error  569 non-null    float64\n",
      " 20  worst radius             569 non-null    float64\n",
      " 21  worst texture            569 non-null    float64\n",
      " 22  worst perimeter          569 non-null    float64\n",
      " 23  worst area               569 non-null    float64\n",
      " 24  worst smoothness         569 non-null    float64\n",
      " 25  worst compactness        569 non-null    float64\n",
      " 26  worst concavity          569 non-null    float64\n",
      " 27  worst concave points     569 non-null    float64\n",
      " 28  worst symmetry           569 non-null    float64\n",
      " 29  worst fractal dimension  569 non-null    float64\n",
      "dtypes: float64(30)\n",
      "memory usage: 133.5 KB\n"
     ]
    }
   ],
   "source": [
    "df_feat.info()"
   ]
  },
  {
   "cell_type": "code",
   "execution_count": 17,
   "id": "0bc3066a-4e58-409f-b2fb-b1d480f23efe",
   "metadata": {},
   "outputs": [],
   "source": [
    "from sklearn.model_selection import train_test_split"
   ]
  },
  {
   "cell_type": "code",
   "execution_count": 18,
   "id": "a70c56a1-f90f-4831-85c3-f03fdb750c23",
   "metadata": {},
   "outputs": [],
   "source": [
    "X = df_feat\n",
    "y = cancer['target']\n",
    "X_train, X_test, y_train, y_test = train_test_split(X, y, test_size=0.3, random_state=101)"
   ]
  },
  {
   "cell_type": "code",
   "execution_count": 19,
   "id": "4bde7702-cf56-4d8b-84fa-fe26b0d3ee2d",
   "metadata": {},
   "outputs": [],
   "source": [
    "from sklearn.svm import SVC"
   ]
  },
  {
   "cell_type": "markdown",
   "id": "043d4cef-6246-4bb4-b8ba-0a30defc6bd1",
   "metadata": {},
   "source": [
    "### `SVC()` \n",
    "* `C`: Cost of misclassification / large C -> low bias high variance  \n",
    "* `gamma` : gamma value for radio basis function / high gamma -> high bias low variance "
   ]
  },
  {
   "cell_type": "code",
   "execution_count": 20,
   "id": "227da82f-fd2a-465f-8921-3ad48a4eb65e",
   "metadata": {
    "tags": []
   },
   "outputs": [],
   "source": [
    "model = SVC()"
   ]
  },
  {
   "cell_type": "code",
   "execution_count": 21,
   "id": "1eeb150a-0111-470f-9f76-f99cebc3eec7",
   "metadata": {},
   "outputs": [
    {
     "data": {
      "text/plain": [
       "SVC()"
      ]
     },
     "execution_count": 21,
     "metadata": {},
     "output_type": "execute_result"
    }
   ],
   "source": [
    "model.fit(X_train, y_train)"
   ]
  },
  {
   "cell_type": "code",
   "execution_count": 23,
   "id": "a4a661b7-4fef-4fa0-93c2-c31322363b1b",
   "metadata": {},
   "outputs": [],
   "source": [
    "predictions = model.predict(X_test)"
   ]
  },
  {
   "cell_type": "code",
   "execution_count": 24,
   "id": "17963980-2941-4d29-a8f6-93dcd3cbf10a",
   "metadata": {},
   "outputs": [],
   "source": [
    "from sklearn.metrics import classification_report, confusion_matrix"
   ]
  },
  {
   "cell_type": "code",
   "execution_count": 25,
   "id": "a1d386ad-aace-4a4f-9a04-d8953f43fb4a",
   "metadata": {},
   "outputs": [
    {
     "name": "stdout",
     "output_type": "stream",
     "text": [
      "[[ 56  10]\n",
      " [  3 102]]\n",
      "\n",
      "\n",
      "              precision    recall  f1-score   support\n",
      "\n",
      "           0       0.95      0.85      0.90        66\n",
      "           1       0.91      0.97      0.94       105\n",
      "\n",
      "    accuracy                           0.92       171\n",
      "   macro avg       0.93      0.91      0.92       171\n",
      "weighted avg       0.93      0.92      0.92       171\n",
      "\n"
     ]
    }
   ],
   "source": [
    "print(confusion_matrix(y_test, predictions))\n",
    "print('\\n')\n",
    "print(classification_report(y_test, predictions))"
   ]
  },
  {
   "cell_type": "code",
   "execution_count": 27,
   "id": "c71930b0-152c-4634-9e8d-ba112d12bc10",
   "metadata": {},
   "outputs": [],
   "source": [
    "from sklearn.model_selection import GridSearchCV"
   ]
  },
  {
   "cell_type": "code",
   "execution_count": 28,
   "id": "8b30c386-f65c-4360-a539-9b94f5b7284e",
   "metadata": {},
   "outputs": [],
   "source": [
    "param_grid = {'C': [0.1,1,10,100,1000], 'gamma':[1,0.1,0.01,0.001,0.0001]}"
   ]
  },
  {
   "cell_type": "code",
   "execution_count": 29,
   "id": "04c2a6bb-b851-4251-85de-a270485bfa78",
   "metadata": {},
   "outputs": [],
   "source": [
    "grid = GridSearchCV(SVC(), param_grid, verbose=3)"
   ]
  },
  {
   "cell_type": "code",
   "execution_count": 30,
   "id": "ff9c9034-b045-4c6b-a948-1519f711688d",
   "metadata": {},
   "outputs": [
    {
     "name": "stdout",
     "output_type": "stream",
     "text": [
      "Fitting 5 folds for each of 25 candidates, totalling 125 fits\n",
      "[CV 1/5] END ....................C=0.1, gamma=1;, score=0.637 total time=   0.0s\n",
      "[CV 2/5] END ....................C=0.1, gamma=1;, score=0.637 total time=   0.0s\n",
      "[CV 3/5] END ....................C=0.1, gamma=1;, score=0.625 total time=   0.0s\n",
      "[CV 4/5] END ....................C=0.1, gamma=1;, score=0.633 total time=   0.0s\n",
      "[CV 5/5] END ....................C=0.1, gamma=1;, score=0.633 total time=   0.0s\n",
      "[CV 1/5] END ..................C=0.1, gamma=0.1;, score=0.637 total time=   0.0s\n",
      "[CV 2/5] END ..................C=0.1, gamma=0.1;, score=0.637 total time=   0.0s\n",
      "[CV 3/5] END ..................C=0.1, gamma=0.1;, score=0.625 total time=   0.0s\n",
      "[CV 4/5] END ..................C=0.1, gamma=0.1;, score=0.633 total time=   0.0s\n",
      "[CV 5/5] END ..................C=0.1, gamma=0.1;, score=0.633 total time=   0.0s\n",
      "[CV 1/5] END .................C=0.1, gamma=0.01;, score=0.637 total time=   0.0s\n",
      "[CV 2/5] END .................C=0.1, gamma=0.01;, score=0.637 total time=   0.0s\n",
      "[CV 3/5] END .................C=0.1, gamma=0.01;, score=0.625 total time=   0.0s\n",
      "[CV 4/5] END .................C=0.1, gamma=0.01;, score=0.633 total time=   0.0s\n",
      "[CV 5/5] END .................C=0.1, gamma=0.01;, score=0.633 total time=   0.0s\n",
      "[CV 1/5] END ................C=0.1, gamma=0.001;, score=0.637 total time=   0.0s\n",
      "[CV 2/5] END ................C=0.1, gamma=0.001;, score=0.637 total time=   0.0s\n",
      "[CV 3/5] END ................C=0.1, gamma=0.001;, score=0.625 total time=   0.0s\n",
      "[CV 4/5] END ................C=0.1, gamma=0.001;, score=0.633 total time=   0.0s\n",
      "[CV 5/5] END ................C=0.1, gamma=0.001;, score=0.633 total time=   0.0s\n",
      "[CV 1/5] END ...............C=0.1, gamma=0.0001;, score=0.887 total time=   0.0s\n",
      "[CV 2/5] END ...............C=0.1, gamma=0.0001;, score=0.938 total time=   0.0s\n",
      "[CV 3/5] END ...............C=0.1, gamma=0.0001;, score=0.963 total time=   0.0s\n",
      "[CV 4/5] END ...............C=0.1, gamma=0.0001;, score=0.962 total time=   0.0s\n",
      "[CV 5/5] END ...............C=0.1, gamma=0.0001;, score=0.886 total time=   0.0s\n",
      "[CV 1/5] END ......................C=1, gamma=1;, score=0.637 total time=   0.0s\n",
      "[CV 2/5] END ......................C=1, gamma=1;, score=0.637 total time=   0.0s\n",
      "[CV 3/5] END ......................C=1, gamma=1;, score=0.625 total time=   0.0s\n",
      "[CV 4/5] END ......................C=1, gamma=1;, score=0.633 total time=   0.0s\n",
      "[CV 5/5] END ......................C=1, gamma=1;, score=0.633 total time=   0.0s\n",
      "[CV 1/5] END ....................C=1, gamma=0.1;, score=0.637 total time=   0.0s\n",
      "[CV 2/5] END ....................C=1, gamma=0.1;, score=0.637 total time=   0.0s\n",
      "[CV 3/5] END ....................C=1, gamma=0.1;, score=0.625 total time=   0.0s\n",
      "[CV 4/5] END ....................C=1, gamma=0.1;, score=0.633 total time=   0.0s\n",
      "[CV 5/5] END ....................C=1, gamma=0.1;, score=0.633 total time=   0.0s\n",
      "[CV 1/5] END ...................C=1, gamma=0.01;, score=0.637 total time=   0.0s\n",
      "[CV 2/5] END ...................C=1, gamma=0.01;, score=0.637 total time=   0.0s\n",
      "[CV 3/5] END ...................C=1, gamma=0.01;, score=0.625 total time=   0.0s\n",
      "[CV 4/5] END ...................C=1, gamma=0.01;, score=0.633 total time=   0.0s\n",
      "[CV 5/5] END ...................C=1, gamma=0.01;, score=0.633 total time=   0.0s\n",
      "[CV 1/5] END ..................C=1, gamma=0.001;, score=0.900 total time=   0.0s\n",
      "[CV 2/5] END ..................C=1, gamma=0.001;, score=0.912 total time=   0.0s\n",
      "[CV 3/5] END ..................C=1, gamma=0.001;, score=0.925 total time=   0.0s\n",
      "[CV 4/5] END ..................C=1, gamma=0.001;, score=0.962 total time=   0.0s\n",
      "[CV 5/5] END ..................C=1, gamma=0.001;, score=0.937 total time=   0.0s\n",
      "[CV 1/5] END .................C=1, gamma=0.0001;, score=0.912 total time=   0.0s\n",
      "[CV 2/5] END .................C=1, gamma=0.0001;, score=0.950 total time=   0.0s\n",
      "[CV 3/5] END .................C=1, gamma=0.0001;, score=0.975 total time=   0.0s\n",
      "[CV 4/5] END .................C=1, gamma=0.0001;, score=0.962 total time=   0.0s\n",
      "[CV 5/5] END .................C=1, gamma=0.0001;, score=0.937 total time=   0.0s\n",
      "[CV 1/5] END .....................C=10, gamma=1;, score=0.637 total time=   0.0s\n",
      "[CV 2/5] END .....................C=10, gamma=1;, score=0.637 total time=   0.0s\n",
      "[CV 3/5] END .....................C=10, gamma=1;, score=0.625 total time=   0.0s\n",
      "[CV 4/5] END .....................C=10, gamma=1;, score=0.633 total time=   0.0s\n",
      "[CV 5/5] END .....................C=10, gamma=1;, score=0.633 total time=   0.0s\n",
      "[CV 1/5] END ...................C=10, gamma=0.1;, score=0.637 total time=   0.0s\n",
      "[CV 2/5] END ...................C=10, gamma=0.1;, score=0.637 total time=   0.0s\n",
      "[CV 3/5] END ...................C=10, gamma=0.1;, score=0.625 total time=   0.0s\n",
      "[CV 4/5] END ...................C=10, gamma=0.1;, score=0.633 total time=   0.0s\n",
      "[CV 5/5] END ...................C=10, gamma=0.1;, score=0.633 total time=   0.0s\n",
      "[CV 1/5] END ..................C=10, gamma=0.01;, score=0.637 total time=   0.0s\n",
      "[CV 2/5] END ..................C=10, gamma=0.01;, score=0.637 total time=   0.0s\n",
      "[CV 3/5] END ..................C=10, gamma=0.01;, score=0.613 total time=   0.0s\n",
      "[CV 4/5] END ..................C=10, gamma=0.01;, score=0.633 total time=   0.0s\n",
      "[CV 5/5] END ..................C=10, gamma=0.01;, score=0.633 total time=   0.0s\n",
      "[CV 1/5] END .................C=10, gamma=0.001;, score=0.887 total time=   0.0s\n",
      "[CV 2/5] END .................C=10, gamma=0.001;, score=0.912 total time=   0.0s\n",
      "[CV 3/5] END .................C=10, gamma=0.001;, score=0.900 total time=   0.0s\n",
      "[CV 4/5] END .................C=10, gamma=0.001;, score=0.937 total time=   0.0s\n",
      "[CV 5/5] END .................C=10, gamma=0.001;, score=0.924 total time=   0.0s\n",
      "[CV 1/5] END ................C=10, gamma=0.0001;, score=0.950 total time=   0.0s\n",
      "[CV 2/5] END ................C=10, gamma=0.0001;, score=0.912 total time=   0.0s\n",
      "[CV 3/5] END ................C=10, gamma=0.0001;, score=0.975 total time=   0.0s\n",
      "[CV 4/5] END ................C=10, gamma=0.0001;, score=0.949 total time=   0.0s\n",
      "[CV 5/5] END ................C=10, gamma=0.0001;, score=0.949 total time=   0.0s\n",
      "[CV 1/5] END ....................C=100, gamma=1;, score=0.637 total time=   0.0s\n",
      "[CV 2/5] END ....................C=100, gamma=1;, score=0.637 total time=   0.0s\n",
      "[CV 3/5] END ....................C=100, gamma=1;, score=0.625 total time=   0.0s\n",
      "[CV 4/5] END ....................C=100, gamma=1;, score=0.633 total time=   0.0s\n",
      "[CV 5/5] END ....................C=100, gamma=1;, score=0.633 total time=   0.0s\n",
      "[CV 1/5] END ..................C=100, gamma=0.1;, score=0.637 total time=   0.0s\n",
      "[CV 2/5] END ..................C=100, gamma=0.1;, score=0.637 total time=   0.0s\n",
      "[CV 3/5] END ..................C=100, gamma=0.1;, score=0.625 total time=   0.0s\n",
      "[CV 4/5] END ..................C=100, gamma=0.1;, score=0.633 total time=   0.0s\n",
      "[CV 5/5] END ..................C=100, gamma=0.1;, score=0.633 total time=   0.0s\n",
      "[CV 1/5] END .................C=100, gamma=0.01;, score=0.637 total time=   0.0s\n",
      "[CV 2/5] END .................C=100, gamma=0.01;, score=0.637 total time=   0.0s\n",
      "[CV 3/5] END .................C=100, gamma=0.01;, score=0.613 total time=   0.0s\n",
      "[CV 4/5] END .................C=100, gamma=0.01;, score=0.633 total time=   0.0s\n",
      "[CV 5/5] END .................C=100, gamma=0.01;, score=0.633 total time=   0.0s\n",
      "[CV 1/5] END ................C=100, gamma=0.001;, score=0.887 total time=   0.0s\n",
      "[CV 2/5] END ................C=100, gamma=0.001;, score=0.912 total time=   0.0s\n",
      "[CV 3/5] END ................C=100, gamma=0.001;, score=0.900 total time=   0.0s\n",
      "[CV 4/5] END ................C=100, gamma=0.001;, score=0.937 total time=   0.0s\n",
      "[CV 5/5] END ................C=100, gamma=0.001;, score=0.924 total time=   0.0s\n",
      "[CV 1/5] END ...............C=100, gamma=0.0001;, score=0.925 total time=   0.0s\n",
      "[CV 2/5] END ...............C=100, gamma=0.0001;, score=0.912 total time=   0.0s\n",
      "[CV 3/5] END ...............C=100, gamma=0.0001;, score=0.975 total time=   0.0s\n",
      "[CV 4/5] END ...............C=100, gamma=0.0001;, score=0.937 total time=   0.0s\n",
      "[CV 5/5] END ...............C=100, gamma=0.0001;, score=0.949 total time=   0.0s\n",
      "[CV 1/5] END ...................C=1000, gamma=1;, score=0.637 total time=   0.0s\n",
      "[CV 2/5] END ...................C=1000, gamma=1;, score=0.637 total time=   0.0s\n",
      "[CV 3/5] END ...................C=1000, gamma=1;, score=0.625 total time=   0.0s\n",
      "[CV 4/5] END ...................C=1000, gamma=1;, score=0.633 total time=   0.0s\n",
      "[CV 5/5] END ...................C=1000, gamma=1;, score=0.633 total time=   0.0s\n",
      "[CV 1/5] END .................C=1000, gamma=0.1;, score=0.637 total time=   0.0s\n",
      "[CV 2/5] END .................C=1000, gamma=0.1;, score=0.637 total time=   0.0s\n",
      "[CV 3/5] END .................C=1000, gamma=0.1;, score=0.625 total time=   0.0s\n",
      "[CV 4/5] END .................C=1000, gamma=0.1;, score=0.633 total time=   0.0s\n",
      "[CV 5/5] END .................C=1000, gamma=0.1;, score=0.633 total time=   0.0s\n",
      "[CV 1/5] END ................C=1000, gamma=0.01;, score=0.637 total time=   0.0s\n",
      "[CV 2/5] END ................C=1000, gamma=0.01;, score=0.637 total time=   0.0s\n",
      "[CV 3/5] END ................C=1000, gamma=0.01;, score=0.613 total time=   0.0s\n",
      "[CV 4/5] END ................C=1000, gamma=0.01;, score=0.633 total time=   0.0s\n",
      "[CV 5/5] END ................C=1000, gamma=0.01;, score=0.633 total time=   0.0s\n",
      "[CV 1/5] END ...............C=1000, gamma=0.001;, score=0.887 total time=   0.0s\n",
      "[CV 2/5] END ...............C=1000, gamma=0.001;, score=0.912 total time=   0.0s\n",
      "[CV 3/5] END ...............C=1000, gamma=0.001;, score=0.900 total time=   0.0s\n",
      "[CV 4/5] END ...............C=1000, gamma=0.001;, score=0.937 total time=   0.0s\n",
      "[CV 5/5] END ...............C=1000, gamma=0.001;, score=0.924 total time=   0.0s\n",
      "[CV 1/5] END ..............C=1000, gamma=0.0001;, score=0.938 total time=   0.0s\n",
      "[CV 2/5] END ..............C=1000, gamma=0.0001;, score=0.912 total time=   0.0s\n",
      "[CV 3/5] END ..............C=1000, gamma=0.0001;, score=0.963 total time=   0.0s\n",
      "[CV 4/5] END ..............C=1000, gamma=0.0001;, score=0.924 total time=   0.0s\n",
      "[CV 5/5] END ..............C=1000, gamma=0.0001;, score=0.962 total time=   0.0s\n"
     ]
    },
    {
     "data": {
      "text/plain": [
       "GridSearchCV(estimator=SVC(),\n",
       "             param_grid={'C': [0.1, 1, 10, 100, 1000],\n",
       "                         'gamma': [1, 0.1, 0.01, 0.001, 0.0001]},\n",
       "             verbose=3)"
      ]
     },
     "execution_count": 30,
     "metadata": {},
     "output_type": "execute_result"
    }
   ],
   "source": [
    "grid.fit(X_train, y_train)"
   ]
  },
  {
   "cell_type": "code",
   "execution_count": 31,
   "id": "42fc0c64-efd4-4feb-a381-e63b32eca284",
   "metadata": {},
   "outputs": [
    {
     "data": {
      "text/plain": [
       "{'C': 1, 'gamma': 0.0001}"
      ]
     },
     "execution_count": 31,
     "metadata": {},
     "output_type": "execute_result"
    }
   ],
   "source": [
    "grid.best_params_"
   ]
  },
  {
   "cell_type": "code",
   "execution_count": 32,
   "id": "423176e6-d3f6-4755-af16-ea1325fc54b3",
   "metadata": {},
   "outputs": [
    {
     "data": {
      "text/plain": [
       "SVC(C=1, gamma=0.0001)"
      ]
     },
     "execution_count": 32,
     "metadata": {},
     "output_type": "execute_result"
    }
   ],
   "source": [
    "grid.best_estimator_"
   ]
  },
  {
   "cell_type": "code",
   "execution_count": 33,
   "id": "bfa093ec-ada8-4005-8082-4f25f70ec0d3",
   "metadata": {},
   "outputs": [],
   "source": [
    "grid_predictions = grid.predict(X_test)"
   ]
  },
  {
   "cell_type": "code",
   "execution_count": 34,
   "id": "49659ab6-5b5d-4790-b653-731b11904566",
   "metadata": {},
   "outputs": [
    {
     "name": "stdout",
     "output_type": "stream",
     "text": [
      "[[ 59   7]\n",
      " [  4 101]]\n",
      "\n",
      "\n",
      "              precision    recall  f1-score   support\n",
      "\n",
      "           0       0.94      0.89      0.91        66\n",
      "           1       0.94      0.96      0.95       105\n",
      "\n",
      "    accuracy                           0.94       171\n",
      "   macro avg       0.94      0.93      0.93       171\n",
      "weighted avg       0.94      0.94      0.94       171\n",
      "\n"
     ]
    }
   ],
   "source": [
    "print(confusion_matrix(y_test, grid_predictions))\n",
    "print('\\n')\n",
    "print(classification_report(y_test, grid_predictions))"
   ]
  },
  {
   "cell_type": "code",
   "execution_count": null,
   "id": "439af4e1-f5ff-494a-9219-599540542628",
   "metadata": {},
   "outputs": [],
   "source": []
  }
 ],
 "metadata": {
  "kernelspec": {
   "display_name": "Python 3 (ipykernel)",
   "language": "python",
   "name": "python3"
  },
  "language_info": {
   "codemirror_mode": {
    "name": "ipython",
    "version": 3
   },
   "file_extension": ".py",
   "mimetype": "text/x-python",
   "name": "python",
   "nbconvert_exporter": "python",
   "pygments_lexer": "ipython3",
   "version": "3.9.7"
  }
 },
 "nbformat": 4,
 "nbformat_minor": 5
}
