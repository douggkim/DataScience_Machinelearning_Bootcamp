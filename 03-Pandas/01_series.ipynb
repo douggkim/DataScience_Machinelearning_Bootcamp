{
 "cells": [
  {
   "cell_type": "markdown",
   "id": "be9c8799-2600-4998-bb23-03a4c12e107e",
   "metadata": {},
   "source": [
    "># Pandas"
   ]
  },
  {
   "cell_type": "code",
   "execution_count": 2,
   "id": "1c5c339b-dea0-48b1-8fb2-232db0a46b70",
   "metadata": {},
   "outputs": [],
   "source": [
    "import numpy as np"
   ]
  },
  {
   "cell_type": "code",
   "execution_count": 3,
   "id": "f604d1e8-1e1b-4968-9055-f907719b0c61",
   "metadata": {},
   "outputs": [],
   "source": [
    "import pandas as pd"
   ]
  },
  {
   "cell_type": "code",
   "execution_count": 5,
   "id": "fcea3c80-706b-46ad-b7f4-a5cf0fb81eb4",
   "metadata": {},
   "outputs": [],
   "source": [
    "labels = ['a','b','c']\n",
    "my_data = [10,20,30]\n",
    "arr = np.array(my_data)\n",
    "d = {'a': 10, 'b':20, 'c':30}"
   ]
  },
  {
   "cell_type": "code",
   "execution_count": 6,
   "id": "76caa0e7-200f-4ae7-9480-544f28c0ef4f",
   "metadata": {},
   "outputs": [
    {
     "data": {
      "text/plain": [
       "array([10, 20, 30])"
      ]
     },
     "execution_count": 6,
     "metadata": {},
     "output_type": "execute_result"
    }
   ],
   "source": [
    "arr"
   ]
  },
  {
   "cell_type": "code",
   "execution_count": 7,
   "id": "92e15fc3-f383-4a70-a0dd-89c05b7a2b1f",
   "metadata": {},
   "outputs": [
    {
     "data": {
      "text/plain": [
       "{'a': 10, 'b': 20, 'c': 30}"
      ]
     },
     "execution_count": 7,
     "metadata": {},
     "output_type": "execute_result"
    }
   ],
   "source": [
    "d"
   ]
  },
  {
   "cell_type": "markdown",
   "id": "707d378a-ad34-4890-8cb6-069494216ae3",
   "metadata": {},
   "source": [
    ">>**Create a Pandas Data Frame**"
   ]
  },
  {
   "cell_type": "code",
   "execution_count": 8,
   "id": "e3e56656-1d35-4c50-b052-f09e19842b5d",
   "metadata": {},
   "outputs": [
    {
     "data": {
      "text/plain": [
       "0    10\n",
       "1    20\n",
       "2    30\n",
       "dtype: int64"
      ]
     },
     "execution_count": 8,
     "metadata": {},
     "output_type": "execute_result"
    }
   ],
   "source": [
    "pd.Series(data = my_data)"
   ]
  },
  {
   "cell_type": "markdown",
   "id": "55196c47-2208-400f-808a-b5abc3eda074",
   "metadata": {},
   "source": [
    ">>__index option lets you decide the labels__"
   ]
  },
  {
   "cell_type": "code",
   "execution_count": 9,
   "id": "fa49ad22-524f-4b43-86e5-a8d808c36bb5",
   "metadata": {},
   "outputs": [
    {
     "data": {
      "text/plain": [
       "a    10\n",
       "b    20\n",
       "c    30\n",
       "dtype: int64"
      ]
     },
     "execution_count": 9,
     "metadata": {},
     "output_type": "execute_result"
    }
   ],
   "source": [
    "pd.Series(data = my_data, index = labels)"
   ]
  },
  {
   "cell_type": "code",
   "execution_count": 10,
   "id": "b2095bc1-a653-4965-ad0e-88cc9e1d5fc1",
   "metadata": {},
   "outputs": [
    {
     "data": {
      "text/plain": [
       "a    10\n",
       "b    20\n",
       "c    30\n",
       "dtype: int32"
      ]
     },
     "execution_count": 10,
     "metadata": {},
     "output_type": "execute_result"
    }
   ],
   "source": [
    "pd.Series(arr, labels)"
   ]
  },
  {
   "cell_type": "markdown",
   "id": "ab24ec93-939c-40fb-a28f-27d1cf400005",
   "metadata": {},
   "source": [
    ">>__Pandas takes in dictionaries and automatically turn them into DFs__"
   ]
  },
  {
   "cell_type": "code",
   "execution_count": 11,
   "id": "e87c4159-4bb1-4550-94b3-b11d3681df7f",
   "metadata": {},
   "outputs": [
    {
     "data": {
      "text/plain": [
       "a    10\n",
       "b    20\n",
       "c    30\n",
       "dtype: int64"
      ]
     },
     "execution_count": 11,
     "metadata": {},
     "output_type": "execute_result"
    }
   ],
   "source": [
    "pd.Series(d)"
   ]
  },
  {
   "cell_type": "markdown",
   "id": "4f811955-4a4a-43e3-a2b4-00ff84f9c533",
   "metadata": {},
   "source": [
    ">>__Pandas DFs can host various types of data - even objects__"
   ]
  },
  {
   "cell_type": "code",
   "execution_count": 12,
   "id": "d474130c-a537-4a12-a26e-d046defb6b35",
   "metadata": {},
   "outputs": [
    {
     "data": {
      "text/plain": [
       "0      <built-in function sum>\n",
       "1    <built-in function print>\n",
       "2      <built-in function len>\n",
       "dtype: object"
      ]
     },
     "execution_count": 12,
     "metadata": {},
     "output_type": "execute_result"
    }
   ],
   "source": [
    "pd.Series(data=[sum,print,len])\n"
   ]
  },
  {
   "cell_type": "markdown",
   "id": "cca9a942-27b6-44e7-9371-7993af87b83c",
   "metadata": {},
   "source": [
    ">>__You could access the elements like a dictionary__"
   ]
  },
  {
   "cell_type": "code",
   "execution_count": 18,
   "id": "ec1e8248-3980-49fc-aac4-0f9cdeedf632",
   "metadata": {},
   "outputs": [],
   "source": [
    "ser1 = pd.Series([1,2,3,4],[\"USA\",\"Germany\",\"USSR\",\"JAPAN\"])"
   ]
  },
  {
   "cell_type": "code",
   "execution_count": 19,
   "id": "1d2df63a-1e1f-45af-a906-61fc5e52ed22",
   "metadata": {},
   "outputs": [
    {
     "data": {
      "text/plain": [
       "USA        1\n",
       "Germany    2\n",
       "USSR       3\n",
       "JAPAN      4\n",
       "dtype: int64"
      ]
     },
     "execution_count": 19,
     "metadata": {},
     "output_type": "execute_result"
    }
   ],
   "source": [
    "ser1"
   ]
  },
  {
   "cell_type": "code",
   "execution_count": 16,
   "id": "b01a4d67-6758-4df2-a26f-fd026ed983e5",
   "metadata": {},
   "outputs": [],
   "source": [
    "ser2 = pd.Series([1,2,5,4],[\"USA\",\"GERMANY\",\"ITALY\",\"JAPAN\"])"
   ]
  },
  {
   "cell_type": "code",
   "execution_count": 17,
   "id": "86e8ea41-29d1-44bb-8b0f-8f29cfd8e4d1",
   "metadata": {},
   "outputs": [
    {
     "data": {
      "text/plain": [
       "USA        1\n",
       "GERMANY    2\n",
       "ITALY      5\n",
       "JAPAN      4\n",
       "dtype: int64"
      ]
     },
     "execution_count": 17,
     "metadata": {},
     "output_type": "execute_result"
    }
   ],
   "source": [
    "ser2"
   ]
  },
  {
   "cell_type": "code",
   "execution_count": 20,
   "id": "434a6bec-1949-4dd2-83a5-fdabd27d8cd6",
   "metadata": {},
   "outputs": [
    {
     "data": {
      "text/plain": [
       "1"
      ]
     },
     "execution_count": 20,
     "metadata": {},
     "output_type": "execute_result"
    }
   ],
   "source": [
    "ser2[\"USA\"]"
   ]
  },
  {
   "cell_type": "code",
   "execution_count": 21,
   "id": "aa8dcf6e-81ea-400c-8875-f29f42171e15",
   "metadata": {},
   "outputs": [],
   "source": [
    "ser3= pd.Series(data=labels)"
   ]
  },
  {
   "cell_type": "code",
   "execution_count": 22,
   "id": "f5dcda08-c4a2-4185-b50a-ecbcf3896634",
   "metadata": {},
   "outputs": [
    {
     "data": {
      "text/plain": [
       "'a'"
      ]
     },
     "execution_count": 22,
     "metadata": {},
     "output_type": "execute_result"
    }
   ],
   "source": [
    "ser3[0]"
   ]
  },
  {
   "cell_type": "markdown",
   "id": "052e02e3-d3a7-41c7-8792-889138c914f0",
   "metadata": {},
   "source": [
    ">>__operations are done based on the index. If there's no same index, the values are marked as *NaN*__"
   ]
  },
  {
   "cell_type": "markdown",
   "id": "ba97ae26-33ca-4cd1-add0-0b82f090dc4f",
   "metadata": {},
   "source": [
    ">>__pandas converts *ints* to *floats* to preserve data__"
   ]
  },
  {
   "cell_type": "code",
   "execution_count": 23,
   "id": "3671ee73-2ada-423b-86a6-f9bb6120b07a",
   "metadata": {},
   "outputs": [
    {
     "data": {
      "text/plain": [
       "GERMANY    NaN\n",
       "Germany    NaN\n",
       "ITALY      NaN\n",
       "JAPAN      8.0\n",
       "USA        2.0\n",
       "USSR       NaN\n",
       "dtype: float64"
      ]
     },
     "execution_count": 23,
     "metadata": {},
     "output_type": "execute_result"
    }
   ],
   "source": [
    "ser1+ser2"
   ]
  }
 ],
 "metadata": {
  "kernelspec": {
   "display_name": "Python 3 (ipykernel)",
   "language": "python",
   "name": "python3"
  },
  "language_info": {
   "codemirror_mode": {
    "name": "ipython",
    "version": 3
   },
   "file_extension": ".py",
   "mimetype": "text/x-python",
   "name": "python",
   "nbconvert_exporter": "python",
   "pygments_lexer": "ipython3",
   "version": "3.9.7"
  }
 },
 "nbformat": 4,
 "nbformat_minor": 5
}
