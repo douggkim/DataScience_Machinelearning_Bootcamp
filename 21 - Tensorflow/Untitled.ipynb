{
 "cells": [
  {
   "cell_type": "markdown",
   "id": "30a557ce-ff29-4431-82d3-60ced3dbdb07",
   "metadata": {
    "tags": []
   },
   "source": [
    "##### TF Regression Code Along - Exploratory Data Analysis"
   ]
  }
 ],
 "metadata": {
  "kernelspec": {
   "display_name": "Python 3 (ipykernel)",
   "language": "python",
   "name": "python3"
  },
  "language_info": {
   "codemirror_mode": {
    "name": "ipython",
    "version": 3
   },
   "file_extension": ".py",
   "mimetype": "text/x-python",
   "name": "python",
   "nbconvert_exporter": "python",
   "pygments_lexer": "ipython3",
   "version": "3.9.7"
  }
 },
 "nbformat": 4,
 "nbformat_minor": 5
}
